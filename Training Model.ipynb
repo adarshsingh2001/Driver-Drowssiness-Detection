{
 "cells": [
  {
   "cell_type": "code",
   "execution_count": 44,
   "metadata": {},
   "outputs": [],
   "source": [
    "from keras.models import Sequential\n",
    "from keras.layers import Dense,Activation,Flatten,Dropout\n",
    "from keras.layers import Conv2D,MaxPooling2D\n",
    "from keras.callbacks import ModelCheckpoint\n"
   ]
  },
  {
   "cell_type": "code",
   "execution_count": 45,
   "metadata": {},
   "outputs": [],
   "source": [
    "import numpy as np\n",
    "\n",
    "data=np.load('data.npy')\n",
    "target=np.load('target.npy')"
   ]
  },
  {
   "cell_type": "code",
   "execution_count": null,
   "metadata": {},
   "outputs": [],
   "source": []
  },
  {
   "cell_type": "code",
   "execution_count": 46,
   "metadata": {},
   "outputs": [
    {
     "data": {
      "text/plain": [
       "(100, 100, 3)"
      ]
     },
     "execution_count": 46,
     "metadata": {},
     "output_type": "execute_result"
    }
   ],
   "source": [
    "img = cv2.imread(\"eyes/ClosedFace/closed_eye_0001.jpg_face_1.jpg\")\n",
    "img.shape"
   ]
  },
  {
   "cell_type": "code",
   "execution_count": 47,
   "metadata": {},
   "outputs": [],
   "source": [
    "model=Sequential()\n",
    "\n",
    "model.add(Conv2D(200,(3,3),input_shape=data.shape[1:]))\n",
    "model.add(Activation('relu'))\n",
    "model.add(MaxPooling2D(pool_size=(2,2)))\n",
    "#The first CNN layer followed by Relu and MaxPooling layers\n",
    "\n",
    "model.add(Conv2D(100,(3,3)))\n",
    "model.add(Activation('relu'))\n",
    "model.add(MaxPooling2D(pool_size=(2,2)))\n",
    "#The second convolution layer followed by Relu and MaxPooling layers\n",
    "\n",
    "model.add(Flatten())\n",
    "model.add(Dropout(0.5))\n",
    "#Flatten layer to stack the output convolutions from second convolution layer\n",
    "model.add(Dense(50,activation='relu'))\n",
    "#Dense layer of 64 neurons\n",
    "model.add(Dense(2,activation='softmax'))"
   ]
  },
  {
   "cell_type": "code",
   "execution_count": 48,
   "metadata": {},
   "outputs": [
    {
     "name": "stdout",
     "output_type": "stream",
     "text": [
      "Model: \"sequential_4\"\n",
      "_________________________________________________________________\n",
      "Layer (type)                 Output Shape              Param #   \n",
      "=================================================================\n",
      "conv2d_10 (Conv2D)           (None, 98, 98, 200)       2000      \n",
      "_________________________________________________________________\n",
      "activation (Activation)      (None, 98, 98, 200)       0         \n",
      "_________________________________________________________________\n",
      "max_pooling2d_9 (MaxPooling2 (None, 49, 49, 200)       0         \n",
      "_________________________________________________________________\n",
      "conv2d_11 (Conv2D)           (None, 47, 47, 100)       180100    \n",
      "_________________________________________________________________\n",
      "activation_1 (Activation)    (None, 47, 47, 100)       0         \n",
      "_________________________________________________________________\n",
      "max_pooling2d_10 (MaxPooling (None, 23, 23, 100)       0         \n",
      "_________________________________________________________________\n",
      "flatten_3 (Flatten)          (None, 52900)             0         \n",
      "_________________________________________________________________\n",
      "dropout_12 (Dropout)         (None, 52900)             0         \n",
      "_________________________________________________________________\n",
      "dense_12 (Dense)             (None, 50)                2645050   \n",
      "_________________________________________________________________\n",
      "dense_13 (Dense)             (None, 2)                 102       \n",
      "=================================================================\n",
      "Total params: 2,827,252\n",
      "Trainable params: 2,827,252\n",
      "Non-trainable params: 0\n",
      "_________________________________________________________________\n"
     ]
    }
   ],
   "source": [
    "model.summary()"
   ]
  },
  {
   "cell_type": "code",
   "execution_count": 49,
   "metadata": {},
   "outputs": [],
   "source": [
    "model.compile(loss='categorical_crossentropy',optimizer='adam',metrics=['accuracy'])"
   ]
  },
  {
   "cell_type": "code",
   "execution_count": 50,
   "metadata": {},
   "outputs": [],
   "source": [
    "from sklearn.model_selection import train_test_split\n",
    "\n",
    "train_data,test_data,train_target,test_target=train_test_split(data,target,test_size=0.1)"
   ]
  },
  {
   "cell_type": "code",
   "execution_count": 51,
   "metadata": {},
   "outputs": [
    {
     "name": "stdout",
     "output_type": "stream",
     "text": [
      "Epoch 1/20\n",
      "55/55 [==============================] - ETA: 0s - loss: 0.7219 - accuracy: 0.5321WARNING:tensorflow:From C:\\ProgramData\\Anaconda3\\lib\\site-packages\\tensorflow\\python\\training\\tracking\\tracking.py:111: Model.state_updates (from tensorflow.python.keras.engine.training) is deprecated and will be removed in a future version.\n",
      "Instructions for updating:\n",
      "This property should not be used in TensorFlow 2.0, as updates are applied automatically.\n",
      "WARNING:tensorflow:From C:\\ProgramData\\Anaconda3\\lib\\site-packages\\tensorflow\\python\\training\\tracking\\tracking.py:111: Layer.updates (from tensorflow.python.keras.engine.base_layer) is deprecated and will be removed in a future version.\n",
      "Instructions for updating:\n",
      "This property should not be used in TensorFlow 2.0, as updates are applied automatically.\n",
      "INFO:tensorflow:Assets written to: model-001.model\\assets\n",
      "55/55 [==============================] - 99s 2s/step - loss: 0.7219 - accuracy: 0.5321 - val_loss: 0.6796 - val_accuracy: 0.5894\n",
      "Epoch 2/20\n",
      "55/55 [==============================] - ETA: 0s - loss: 0.6296 - accuracy: 0.6353INFO:tensorflow:Assets written to: model-002.model\\assets\n",
      "55/55 [==============================] - 99s 2s/step - loss: 0.6296 - accuracy: 0.6353 - val_loss: 0.4933 - val_accuracy: 0.7661\n",
      "Epoch 3/20\n",
      "55/55 [==============================] - ETA: 0s - loss: 0.4863 - accuracy: 0.7683INFO:tensorflow:Assets written to: model-003.model\\assets\n",
      "55/55 [==============================] - 99s 2s/step - loss: 0.4863 - accuracy: 0.7683 - val_loss: 0.4003 - val_accuracy: 0.8372\n",
      "Epoch 4/20\n",
      "55/55 [==============================] - ETA: 0s - loss: 0.4061 - accuracy: 0.8119INFO:tensorflow:Assets written to: model-004.model\\assets\n",
      "55/55 [==============================] - 100s 2s/step - loss: 0.4061 - accuracy: 0.8119 - val_loss: 0.3386 - val_accuracy: 0.8601\n",
      "Epoch 5/20\n",
      "55/55 [==============================] - ETA: 0s - loss: 0.3565 - accuracy: 0.8486INFO:tensorflow:Assets written to: model-005.model\\assets\n",
      "55/55 [==============================] - 99s 2s/step - loss: 0.3565 - accuracy: 0.8486 - val_loss: 0.3259 - val_accuracy: 0.8670\n",
      "Epoch 6/20\n",
      "55/55 [==============================] - ETA: 0s - loss: 0.3373 - accuracy: 0.8612INFO:tensorflow:Assets written to: model-006.model\\assets\n",
      "55/55 [==============================] - 94s 2s/step - loss: 0.3373 - accuracy: 0.8612 - val_loss: 0.2970 - val_accuracy: 0.8784\n",
      "Epoch 7/20\n",
      "55/55 [==============================] - ETA: 0s - loss: 0.2866 - accuracy: 0.8761INFO:tensorflow:Assets written to: model-007.model\\assets\n",
      "55/55 [==============================] - 76s 1s/step - loss: 0.2866 - accuracy: 0.8761 - val_loss: 0.2648 - val_accuracy: 0.8968\n",
      "Epoch 8/20\n",
      "55/55 [==============================] - 75s 1s/step - loss: 0.2674 - accuracy: 0.8870 - val_loss: 0.2843 - val_accuracy: 0.8945\n",
      "Epoch 9/20\n",
      "55/55 [==============================] - ETA: 0s - loss: 0.2345 - accuracy: 0.9048INFO:tensorflow:Assets written to: model-009.model\\assets\n",
      "55/55 [==============================] - 77s 1s/step - loss: 0.2345 - accuracy: 0.9048 - val_loss: 0.2194 - val_accuracy: 0.9358\n",
      "Epoch 10/20\n",
      "55/55 [==============================] - 76s 1s/step - loss: 0.2176 - accuracy: 0.9151 - val_loss: 0.2898 - val_accuracy: 0.8761\n",
      "Epoch 11/20\n",
      "55/55 [==============================] - ETA: 0s - loss: 0.2033 - accuracy: 0.9111INFO:tensorflow:Assets written to: model-011.model\\assets\n",
      "55/55 [==============================] - 78s 1s/step - loss: 0.2033 - accuracy: 0.9111 - val_loss: 0.2117 - val_accuracy: 0.9220\n",
      "Epoch 12/20\n",
      "55/55 [==============================] - 75s 1s/step - loss: 0.1983 - accuracy: 0.9255 - val_loss: 0.2287 - val_accuracy: 0.9197\n",
      "Epoch 13/20\n",
      "55/55 [==============================] - 76s 1s/step - loss: 0.1621 - accuracy: 0.9404 - val_loss: 0.2239 - val_accuracy: 0.9060\n",
      "Epoch 14/20\n",
      "55/55 [==============================] - ETA: 0s - loss: 0.1537 - accuracy: 0.9415INFO:tensorflow:Assets written to: model-014.model\\assets\n",
      "55/55 [==============================] - 77s 1s/step - loss: 0.1537 - accuracy: 0.9415 - val_loss: 0.2039 - val_accuracy: 0.9197\n",
      "Epoch 15/20\n",
      "55/55 [==============================] - 75s 1s/step - loss: 0.1408 - accuracy: 0.9450 - val_loss: 0.2608 - val_accuracy: 0.9083\n",
      "Epoch 16/20\n",
      "55/55 [==============================] - 75s 1s/step - loss: 0.1292 - accuracy: 0.9547 - val_loss: 0.2750 - val_accuracy: 0.8991\n",
      "Epoch 17/20\n",
      "55/55 [==============================] - 75s 1s/step - loss: 0.1446 - accuracy: 0.9444 - val_loss: 0.2050 - val_accuracy: 0.9220\n",
      "Epoch 18/20\n",
      "55/55 [==============================] - ETA: 0s - loss: 0.1142 - accuracy: 0.9587INFO:tensorflow:Assets written to: model-018.model\\assets\n",
      "55/55 [==============================] - 78s 1s/step - loss: 0.1142 - accuracy: 0.9587 - val_loss: 0.1981 - val_accuracy: 0.9335\n",
      "Epoch 19/20\n",
      "55/55 [==============================] - 75s 1s/step - loss: 0.1140 - accuracy: 0.9558 - val_loss: 0.2082 - val_accuracy: 0.9266\n",
      "Epoch 20/20\n",
      "55/55 [==============================] - 75s 1s/step - loss: 0.0892 - accuracy: 0.9679 - val_loss: 0.2336 - val_accuracy: 0.9151\n"
     ]
    }
   ],
   "source": [
    "checkpoint = ModelCheckpoint('model-{epoch:03d}.model',monitor='val_loss',verbose=0,save_best_only=True,mode='auto')\n",
    "history=model.fit(train_data,train_target,epochs=20,callbacks=[checkpoint],validation_split=0.2)"
   ]
  },
  {
   "cell_type": "code",
   "execution_count": 52,
   "metadata": {},
   "outputs": [
    {
     "data": {
      "image/png": "[encoded data removed]",
      "text/plain": [
       "<Figure size 432x288 with 1 Axes>"
      ]
     },
     "metadata": {
      "needs_background": "light"
     },
     "output_type": "display_data"
    }
   ],
   "source": [
    "from matplotlib import pyplot as plt\n",
    "\n",
    "plt.plot(history.history['loss'],'r',label='training loss')\n",
    "plt.plot(history.history['val_loss'],label='validation loss')\n",
    "plt.xlabel('# epochs')\n",
    "plt.ylabel('loss')\n",
    "plt.legend()\n",
    "plt.show()"
   ]
  },
  {
   "cell_type": "code",
   "execution_count": 53,
   "metadata": {},
   "outputs": [
    {
     "data": {
      "image/png": "[encoded data removed]",
      "text/plain": [
       "<Figure size 432x288 with 1 Axes>"
      ]
     },
     "metadata": {
      "needs_background": "light"
     },
     "output_type": "display_data"
    }
   ],
   "source": [
    "plt.plot(history.history['accuracy'],'r',label='training accuracy')\n",
    "plt.plot(history.history['val_accuracy'],label='validation accuracy')\n",
    "plt.xlabel('# epochs')\n",
    "plt.ylabel('loss')\n",
    "plt.legend()\n",
    "plt.show()"
   ]
  },
  {
   "cell_type": "code",
   "execution_count": 54,
   "metadata": {},
   "outputs": [
    {
     "name": "stdout",
     "output_type": "stream",
     "text": [
      "8/8 [==============================] - 3s 317ms/step - loss: 0.2933 - accuracy: 0.9012\n",
      "[0.29328179359436035, 0.9012345671653748]\n"
     ]
    }
   ],
   "source": [
    "print(model.evaluate(test_data,test_target))"
   ]
  },
  {
   "cell_type": "code",
   "execution_count": null,
   "metadata": {},
   "outputs": [],
   "source": []
  },
  {
   "cell_type": "code",
   "execution_count": null,
   "metadata": {},
   "outputs": [],
   "source": []
  }
 ],
 "metadata": {
  "kernelspec": {
   "display_name": "Python 3",
   "language": "python",
   "name": "python3"
  },
  "language_info": {
   "codemirror_mode": {
    "name": "ipython",
    "version": 3
   },
   "file_extension": ".py",
   "mimetype": "text/x-python",
   "name": "python",
   "nbconvert_exporter": "python",
   "pygments_lexer": "ipython3",
   "version": "3.8.3"
  }
 },
 "nbformat": 4,
 "nbformat_minor": 2
}
