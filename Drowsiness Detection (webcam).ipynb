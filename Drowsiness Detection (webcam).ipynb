{
 "cells": [
  {
   "cell_type": "code",
   "execution_count": 1,
   "metadata": {},
   "outputs": [],
   "source": [
    "from keras.models import load_model\n",
    "import cv2\n",
    "import numpy as np\n",
    "import random,os\n",
    "import subprocess\n",
    "import time"
   ]
  },
  {
   "cell_type": "code",
   "execution_count": 2,
   "metadata": {},
   "outputs": [],
   "source": [
    "model = load_model('model-011.model')"
   ]
  },
  {
   "cell_type": "code",
   "execution_count": 3,
   "metadata": {},
   "outputs": [],
   "source": [
    "face_clsfr=cv2.CascadeClassifier(cv2.data.haarcascades + 'haarcascade_frontalface_default.xml')\n",
    "times = 0\n",
    "source=cv2.VideoCapture(0)\n",
    "\n"
   ]
  },
  {
   "cell_type": "code",
   "execution_count": null,
   "metadata": {},
   "outputs": [],
   "source": [
    "while(True):\n",
    "\n",
    "    ret,img=source.read()\n",
    "    gray=cv2.cvtColor(img,cv2.COLOR_BGR2GRAY)\n",
    "    faces=face_clsfr.detectMultiScale(gray,1.3,5)  \n",
    "\n",
    "    for (x,y,w,h) in faces:\n",
    "    \n",
    "        face_img=gray[y:y+w,x:x+w]\n",
    "        resized=cv2.resize(face_img,(100,100))\n",
    "        normalized=resized/255.0\n",
    "        reshaped=np.reshape(normalized,(1,100,100,1))\n",
    "        result=model.predict(reshaped)\n",
    "\n",
    "        max_index=np.argmax(result,axis=1)[0]\n",
    "        \n",
    "        if max_index == 0:\n",
    "            cv2.rectangle(img, (x, y), (x + w, y + h), (0, 25, 255), 7)\n",
    "            cv2.putText(img, \"Drowsy\", (x + h, y), cv2.FONT_HERSHEY_SIMPLEX, 1, (0, 25,255), 2)\n",
    "            times = times + 1\n",
    "    \n",
    "        else:\n",
    "            cv2.rectangle(img, (x, y), (x + w, y + h), (0, 25, 255), 7)\n",
    "            cv2.putText(img, \"Not Drowsy\", (x + h, y), cv2.FONT_HERSHEY_SIMPLEX, 1, (0, 25,255), 2)\n",
    "            times = 0\n",
    "    cv2.imshow('Driving Drowsiness Detection',img)\n",
    "    key = cv2.waitKey(5)& 0xff       \n",
    "    if(times>50):\n",
    "        cv2.destroyAllWindows()\n",
    "        mp = 'C:/Program Files (x86)/Windows Media Player/wmplayer.exe'\n",
    "        randomfile = random.choice(os.listdir(\"C:/Users/Adarsh Singh/Desktop/Deep Learning/My Project/Drowsiness Detection/Alarm/\"))\n",
    "        file = ('C:/Users/Adarsh Singh/Desktop/Deep Learning/My Project/Drowsiness Detection/Alarm/' + randomfile)\n",
    "        subprocess.call([mp, file])\n",
    "        break\n",
    "        \n",
    "    if(key==27):\n",
    "        break\n",
    "        \n"
   ]
  },
  {
   "cell_type": "code",
   "execution_count": null,
   "metadata": {},
   "outputs": [],
   "source": []
  }
 ],
 "metadata": {
  "kernelspec": {
   "display_name": "Python 3",
   "language": "python",
   "name": "python3"
  },
  "language_info": {
   "codemirror_mode": {
    "name": "ipython",
    "version": 3
   },
   "file_extension": ".py",
   "mimetype": "text/x-python",
   "name": "python",
   "nbconvert_exporter": "python",
   "pygments_lexer": "ipython3",
   "version": "3.8.3"
  }
 },
 "nbformat": 4,
 "nbformat_minor": 4
}
